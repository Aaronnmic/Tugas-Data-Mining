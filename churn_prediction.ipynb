# 1. Import Libraries
import pandas as pd
from sklearn.model_selection import train_test_split
from sklearn.ensemble import RandomForestClassifier
from sklearn.metrics import accuracy_score, classification_report

# 2. Load Dataset
data = pd.read_csv('Telco-Customer-Churn.csv')

# Tampilkan informasi umum dan lima baris pertama dari data
print(data.info())
print(data.head())

# 3. Data Preprocessing
# Mengubah kolom TotalCharges menjadi numerik, menangani data yang kosong
data['TotalCharges'] = pd.to_numeric(data['TotalCharges'], errors='coerce')
data = data.dropna()  # Menghapus baris dengan nilai kosong

# Mengubah kolom target 'Churn' menjadi biner (Yes = 1, No = 0)
data['Churn'] = data['Churn'].apply(lambda x: 1 if x == 'Yes' else 0)

# Mengubah fitur kategori menjadi variabel dummy (encoding)
data = pd.get_dummies(data, drop_first=True)

# 4. Split Data
# Memisahkan fitur dan target
X = data.drop('Churn', axis=1)
y = data['Churn']

# Membagi data menjadi data train dan test
X_train, X_test, y_train, y_test = train_test_split(X, y, test_size=0.2, random_state=42)

# 5. Train Model
# Melatih model Random Forest
model = RandomForestClassifier(random_state=42)
model.fit(X_train, y_train)

# 6. Prediction and Evaluation
# Prediksi pada data test
y_pred = model.predict(X_test)

# Evaluasi model
print("Akurasi:", accuracy_score(y_test, y_pred))
print("Classification Report:\n", classification_report(y_test, y_pred))

# (Opsional) Menyimpan model menggunakan joblib
import joblib
joblib.dump(model, 'random_forest_model.pkl')
